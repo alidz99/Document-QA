{
 "cells": [
  {
   "cell_type": "code",
   "execution_count": 17,
   "id": "f7ff0ece-2401-42c0-a4a3-3fb78f564ff9",
   "metadata": {},
   "outputs": [
    {
     "name": "stdout",
     "output_type": "stream",
     "text": [
      "Requirement already satisfied: langchain in ./opt/anaconda3/lib/python3.9/site-packages (0.0.293)\n",
      "Collecting pypdf\n",
      "  Downloading pypdf-3.16.1-py3-none-any.whl (276 kB)\n",
      "\u001b[2K     \u001b[90m━━━━━━━━━━━━━━━━━━━━━━━━━━━━━━━━━━━━━━━\u001b[0m \u001b[32m276.3/276.3 kB\u001b[0m \u001b[31m1.2 MB/s\u001b[0m eta \u001b[36m0:00:00\u001b[0ma \u001b[36m0:00:01\u001b[0m\n",
      "\u001b[?25hRequirement already satisfied: openai in ./opt/anaconda3/lib/python3.9/site-packages (0.28.0)\n",
      "Requirement already satisfied: chromadb in ./opt/anaconda3/lib/python3.9/site-packages (0.4.10)\n",
      "Collecting tiktoken\n",
      "  Downloading tiktoken-0.5.1-cp39-cp39-macosx_10_9_x86_64.whl (953 kB)\n",
      "\u001b[2K     \u001b[90m━━━━━━━━━━━━━━━━━━━━━━━━━━━━━━━━━━━━━━━\u001b[0m \u001b[32m953.9/953.9 kB\u001b[0m \u001b[31m1.4 MB/s\u001b[0m eta \u001b[36m0:00:00\u001b[0ma \u001b[36m0:00:01\u001b[0m\n",
      "\u001b[?25hCollecting docx2txt\n",
      "  Downloading docx2txt-0.8.tar.gz (2.8 kB)\n",
      "  Preparing metadata (setup.py) ... \u001b[?25ldone\n",
      "\u001b[?25hRequirement already satisfied: pydantic<3,>=1 in ./opt/anaconda3/lib/python3.9/site-packages (from langchain) (1.10.12)\n",
      "Requirement already satisfied: dataclasses-json<0.6.0,>=0.5.7 in ./opt/anaconda3/lib/python3.9/site-packages (from langchain) (0.5.14)\n",
      "Requirement already satisfied: numpy<2,>=1 in ./opt/anaconda3/lib/python3.9/site-packages (from langchain) (1.24.3)\n",
      "Requirement already satisfied: PyYAML>=5.3 in ./opt/anaconda3/lib/python3.9/site-packages (from langchain) (6.0)\n",
      "Requirement already satisfied: async-timeout<5.0.0,>=4.0.0 in ./opt/anaconda3/lib/python3.9/site-packages (from langchain) (4.0.3)\n",
      "Requirement already satisfied: tenacity<9.0.0,>=8.1.0 in ./opt/anaconda3/lib/python3.9/site-packages (from langchain) (8.2.3)\n",
      "Requirement already satisfied: SQLAlchemy<3,>=1.4 in ./opt/anaconda3/lib/python3.9/site-packages (from langchain) (1.4.39)\n",
      "Requirement already satisfied: requests<3,>=2 in ./opt/anaconda3/lib/python3.9/site-packages (from langchain) (2.28.1)\n",
      "Requirement already satisfied: langsmith<0.1.0,>=0.0.38 in ./opt/anaconda3/lib/python3.9/site-packages (from langchain) (0.0.38)\n",
      "Requirement already satisfied: numexpr<3.0.0,>=2.8.4 in ./opt/anaconda3/lib/python3.9/site-packages (from langchain) (2.8.6)\n",
      "Requirement already satisfied: aiohttp<4.0.0,>=3.8.3 in ./opt/anaconda3/lib/python3.9/site-packages (from langchain) (3.8.5)\n",
      "Requirement already satisfied: typing_extensions>=3.7.4.3 in ./opt/anaconda3/lib/python3.9/site-packages (from pypdf) (4.8.0)\n",
      "Requirement already satisfied: tqdm in ./opt/anaconda3/lib/python3.9/site-packages (from openai) (4.66.1)\n",
      "Requirement already satisfied: onnxruntime>=1.14.1 in ./opt/anaconda3/lib/python3.9/site-packages (from chromadb) (1.15.1)\n",
      "Requirement already satisfied: overrides>=7.3.1 in ./opt/anaconda3/lib/python3.9/site-packages (from chromadb) (7.4.0)\n",
      "Requirement already satisfied: importlib-resources in ./opt/anaconda3/lib/python3.9/site-packages (from chromadb) (6.0.1)\n",
      "Requirement already satisfied: bcrypt>=4.0.1 in ./opt/anaconda3/lib/python3.9/site-packages (from chromadb) (4.0.1)\n",
      "Requirement already satisfied: fastapi<0.100.0,>=0.95.2 in ./opt/anaconda3/lib/python3.9/site-packages (from chromadb) (0.99.1)\n",
      "Requirement already satisfied: pulsar-client>=3.1.0 in ./opt/anaconda3/lib/python3.9/site-packages (from chromadb) (3.3.0)\n",
      "Requirement already satisfied: tokenizers>=0.13.2 in ./opt/anaconda3/lib/python3.9/site-packages (from chromadb) (0.14.0)\n",
      "Requirement already satisfied: uvicorn[standard]>=0.18.3 in ./opt/anaconda3/lib/python3.9/site-packages (from chromadb) (0.23.2)\n",
      "Requirement already satisfied: pypika>=0.48.9 in ./opt/anaconda3/lib/python3.9/site-packages (from chromadb) (0.48.9)\n",
      "Requirement already satisfied: posthog>=2.4.0 in ./opt/anaconda3/lib/python3.9/site-packages (from chromadb) (3.0.2)\n",
      "Requirement already satisfied: chroma-hnswlib==0.7.3 in ./opt/anaconda3/lib/python3.9/site-packages (from chromadb) (0.7.3)\n",
      "Requirement already satisfied: regex>=2022.1.18 in ./opt/anaconda3/lib/python3.9/site-packages (from tiktoken) (2022.7.9)\n",
      "Requirement already satisfied: charset-normalizer<4.0,>=2.0 in ./opt/anaconda3/lib/python3.9/site-packages (from aiohttp<4.0.0,>=3.8.3->langchain) (2.0.4)\n",
      "Requirement already satisfied: attrs>=17.3.0 in ./opt/anaconda3/lib/python3.9/site-packages (from aiohttp<4.0.0,>=3.8.3->langchain) (21.4.0)\n",
      "Requirement already satisfied: yarl<2.0,>=1.0 in ./opt/anaconda3/lib/python3.9/site-packages (from aiohttp<4.0.0,>=3.8.3->langchain) (1.9.2)\n",
      "Requirement already satisfied: aiosignal>=1.1.2 in ./opt/anaconda3/lib/python3.9/site-packages (from aiohttp<4.0.0,>=3.8.3->langchain) (1.3.1)\n",
      "Requirement already satisfied: multidict<7.0,>=4.5 in ./opt/anaconda3/lib/python3.9/site-packages (from aiohttp<4.0.0,>=3.8.3->langchain) (6.0.4)\n",
      "Requirement already satisfied: frozenlist>=1.1.1 in ./opt/anaconda3/lib/python3.9/site-packages (from aiohttp<4.0.0,>=3.8.3->langchain) (1.4.0)\n",
      "Requirement already satisfied: marshmallow<4.0.0,>=3.18.0 in ./opt/anaconda3/lib/python3.9/site-packages (from dataclasses-json<0.6.0,>=0.5.7->langchain) (3.20.1)\n",
      "Requirement already satisfied: typing-inspect<1,>=0.4.0 in ./opt/anaconda3/lib/python3.9/site-packages (from dataclasses-json<0.6.0,>=0.5.7->langchain) (0.9.0)\n",
      "Requirement already satisfied: starlette<0.28.0,>=0.27.0 in ./opt/anaconda3/lib/python3.9/site-packages (from fastapi<0.100.0,>=0.95.2->chromadb) (0.27.0)\n",
      "Requirement already satisfied: flatbuffers in ./opt/anaconda3/lib/python3.9/site-packages (from onnxruntime>=1.14.1->chromadb) (1.12)\n",
      "Requirement already satisfied: protobuf in ./opt/anaconda3/lib/python3.9/site-packages (from onnxruntime>=1.14.1->chromadb) (3.19.6)\n",
      "Requirement already satisfied: coloredlogs in ./opt/anaconda3/lib/python3.9/site-packages (from onnxruntime>=1.14.1->chromadb) (15.0.1)\n",
      "Requirement already satisfied: sympy in ./opt/anaconda3/lib/python3.9/site-packages (from onnxruntime>=1.14.1->chromadb) (1.10.1)\n",
      "Requirement already satisfied: packaging in ./opt/anaconda3/lib/python3.9/site-packages (from onnxruntime>=1.14.1->chromadb) (21.3)\n",
      "Requirement already satisfied: monotonic>=1.5 in ./opt/anaconda3/lib/python3.9/site-packages (from posthog>=2.4.0->chromadb) (1.6)\n",
      "Requirement already satisfied: python-dateutil>2.1 in ./opt/anaconda3/lib/python3.9/site-packages (from posthog>=2.4.0->chromadb) (2.8.2)\n",
      "Requirement already satisfied: backoff>=1.10.0 in ./opt/anaconda3/lib/python3.9/site-packages (from posthog>=2.4.0->chromadb) (2.2.1)\n",
      "Requirement already satisfied: six>=1.5 in ./opt/anaconda3/lib/python3.9/site-packages (from posthog>=2.4.0->chromadb) (1.16.0)\n",
      "Requirement already satisfied: certifi in ./opt/anaconda3/lib/python3.9/site-packages (from pulsar-client>=3.1.0->chromadb) (2022.9.24)\n",
      "Requirement already satisfied: idna<4,>=2.5 in ./opt/anaconda3/lib/python3.9/site-packages (from requests<3,>=2->langchain) (3.3)\n",
      "Requirement already satisfied: urllib3<1.27,>=1.21.1 in ./opt/anaconda3/lib/python3.9/site-packages (from requests<3,>=2->langchain) (1.26.11)\n",
      "Requirement already satisfied: greenlet!=0.4.17 in ./opt/anaconda3/lib/python3.9/site-packages (from SQLAlchemy<3,>=1.4->langchain) (1.1.1)\n",
      "Requirement already satisfied: huggingface_hub<0.17,>=0.16.4 in ./opt/anaconda3/lib/python3.9/site-packages (from tokenizers>=0.13.2->chromadb) (0.16.4)\n",
      "Requirement already satisfied: click>=7.0 in ./opt/anaconda3/lib/python3.9/site-packages (from uvicorn[standard]>=0.18.3->chromadb) (7.1.2)\n",
      "Requirement already satisfied: h11>=0.8 in ./opt/anaconda3/lib/python3.9/site-packages (from uvicorn[standard]>=0.18.3->chromadb) (0.12.0)\n",
      "Requirement already satisfied: watchfiles>=0.13 in ./opt/anaconda3/lib/python3.9/site-packages (from uvicorn[standard]>=0.18.3->chromadb) (0.20.0)\n",
      "Requirement already satisfied: uvloop!=0.15.0,!=0.15.1,>=0.14.0 in ./opt/anaconda3/lib/python3.9/site-packages (from uvicorn[standard]>=0.18.3->chromadb) (0.17.0)\n",
      "Requirement already satisfied: websockets>=10.4 in ./opt/anaconda3/lib/python3.9/site-packages (from uvicorn[standard]>=0.18.3->chromadb) (11.0.3)\n",
      "Requirement already satisfied: python-dotenv>=0.13 in ./opt/anaconda3/lib/python3.9/site-packages (from uvicorn[standard]>=0.18.3->chromadb) (1.0.0)\n",
      "Requirement already satisfied: httptools>=0.5.0 in ./opt/anaconda3/lib/python3.9/site-packages (from uvicorn[standard]>=0.18.3->chromadb) (0.6.0)\n",
      "Requirement already satisfied: zipp>=3.1.0 in ./opt/anaconda3/lib/python3.9/site-packages (from importlib-resources->chromadb) (3.8.0)\n",
      "Requirement already satisfied: fsspec in ./opt/anaconda3/lib/python3.9/site-packages (from huggingface_hub<0.17,>=0.16.4->tokenizers>=0.13.2->chromadb) (2022.7.1)\n",
      "Requirement already satisfied: filelock in ./opt/anaconda3/lib/python3.9/site-packages (from huggingface_hub<0.17,>=0.16.4->tokenizers>=0.13.2->chromadb) (3.6.0)\n",
      "Requirement already satisfied: pyparsing!=3.0.5,>=2.0.2 in ./opt/anaconda3/lib/python3.9/site-packages (from packaging->onnxruntime>=1.14.1->chromadb) (3.0.9)\n",
      "Requirement already satisfied: anyio<5,>=3.4.0 in ./opt/anaconda3/lib/python3.9/site-packages (from starlette<0.28.0,>=0.27.0->fastapi<0.100.0,>=0.95.2->chromadb) (3.5.0)\n",
      "Requirement already satisfied: mypy-extensions>=0.3.0 in ./opt/anaconda3/lib/python3.9/site-packages (from typing-inspect<1,>=0.4.0->dataclasses-json<0.6.0,>=0.5.7->langchain) (0.4.3)\n",
      "Requirement already satisfied: humanfriendly>=9.1 in ./opt/anaconda3/lib/python3.9/site-packages (from coloredlogs->onnxruntime>=1.14.1->chromadb) (10.0)\n",
      "Requirement already satisfied: mpmath>=0.19 in ./opt/anaconda3/lib/python3.9/site-packages (from sympy->onnxruntime>=1.14.1->chromadb) (1.2.1)\n",
      "Requirement already satisfied: sniffio>=1.1 in ./opt/anaconda3/lib/python3.9/site-packages (from anyio<5,>=3.4.0->starlette<0.28.0,>=0.27.0->fastapi<0.100.0,>=0.95.2->chromadb) (1.2.0)\n",
      "Building wheels for collected packages: docx2txt\n",
      "  Building wheel for docx2txt (setup.py) ... \u001b[?25ldone\n",
      "\u001b[?25h  Created wheel for docx2txt: filename=docx2txt-0.8-py3-none-any.whl size=3960 sha256=06804cbeaa76fa12a6370c5438ef741103908b548cb96f1c0d5719f53b6792e9\n",
      "  Stored in directory: /Users/ali/Library/Caches/pip/wheels/40/75/01/e6c444034338bde9c7947d3467807f889123465c2371e77418\n",
      "Successfully built docx2txt\n",
      "Installing collected packages: docx2txt, pypdf, tiktoken\n",
      "Successfully installed docx2txt-0.8 pypdf-3.16.1 tiktoken-0.5.1\n",
      "Note: you may need to restart the kernel to use updated packages.\n"
     ]
    }
   ],
   "source": [
    "pip install langchain pypdf openai chromadb tiktoken docx2txt\n"
   ]
  },
  {
   "cell_type": "code",
   "execution_count": 1,
   "id": "9f86021b-37ac-41a8-8c04-114f11e358c0",
   "metadata": {},
   "outputs": [],
   "source": [
    "from langchain.document_loaders import PyPDFLoader"
   ]
  },
  {
   "cell_type": "code",
   "execution_count": 7,
   "id": "d7bd09b9-74f1-4e0e-b0aa-35156cfe6f23",
   "metadata": {},
   "outputs": [],
   "source": [
    "pdf_loader = PyPDFLoader(\"./Downloads/BN-Article.pdf\")"
   ]
  },
  {
   "cell_type": "code",
   "execution_count": 31,
   "id": "19ffa64d-6957-44c6-bbff-feb3f4ef1d6b",
   "metadata": {},
   "outputs": [],
   "source": [
    "documents = pdf_loader.load()\n",
    "from langchain.text_splitter import RecursiveCharacterTextSplitter\n",
    "\n",
    "text_splitter = RecursiveCharacterTextSplitter(chunk_size = 500, chunk_overlap = 0)\n",
    "all_splits = text_splitter.split_documents(documents)"
   ]
  },
  {
   "cell_type": "code",
   "execution_count": 16,
   "id": "a2f7d38f-e045-4964-93ac-bb3f85ee2401",
   "metadata": {},
   "outputs": [],
   "source": [
    "from langchain.llms import OpenAI\n",
    "from langchain.chains.question_answering import load_qa_chain\n",
    "import os\n"
   ]
  },
  {
   "cell_type": "code",
   "execution_count": 33,
   "id": "1cbcce7d-e1ad-4d0c-84c6-f52429c825cd",
   "metadata": {},
   "outputs": [],
   "source": [
    "from langchain.embeddings import OpenAIEmbeddings\n",
    "from langchain.vectorstores import Chroma\n",
    "\n",
    "vectorstore = Chroma.from_documents(documents=all_splits, embedding=OpenAIEmbeddings(openai_api_key = OPENAI_API_KEY))\n"
   ]
  },
  {
   "cell_type": "code",
   "execution_count": 34,
   "id": "ced0e862-6159-4e29-9b2e-98cb51f490fa",
   "metadata": {},
   "outputs": [
    {
     "data": {
      "text/plain": [
       "4"
      ]
     },
     "execution_count": 34,
     "metadata": {},
     "output_type": "execute_result"
    }
   ],
   "source": [
    "question = \"Who wrote this article?\"\n",
    "docs = vectorstore.similarity_search(question)\n",
    "len(docs)"
   ]
  },
  {
   "cell_type": "code",
   "execution_count": 36,
   "id": "e55750dd-0d29-4c4b-a0b0-33587768ddae",
   "metadata": {},
   "outputs": [
    {
     "data": {
      "text/plain": [
       "{'query': 'Who wrote this article?',\n",
       " 'result': 'The author of this article is B. Honari.'}"
      ]
     },
     "execution_count": 36,
     "metadata": {},
     "output_type": "execute_result"
    }
   ],
   "source": [
    "from langchain.chains import RetrievalQA\n",
    "from langchain.chat_models import ChatOpenAI\n",
    "\n",
    "llm = ChatOpenAI(model_name=\"gpt-3.5-turbo-16k\", temperature=0, openai_api_key = OPENAI_API_KEY)\n",
    "qa_chain = RetrievalQA.from_chain_type(llm,retriever=vectorstore.as_retriever())\n",
    "qa_chain({\"query\": question})"
   ]
  }
 ],
 "metadata": {
  "kernelspec": {
   "display_name": "Python 3 (ipykernel)",
   "language": "python",
   "name": "python3"
  },
  "language_info": {
   "codemirror_mode": {
    "name": "ipython",
    "version": 3
   },
   "file_extension": ".py",
   "mimetype": "text/x-python",
   "name": "python",
   "nbconvert_exporter": "python",
   "pygments_lexer": "ipython3",
   "version": "3.9.13"
  }
 },
 "nbformat": 4,
 "nbformat_minor": 5
}
